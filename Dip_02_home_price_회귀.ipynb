{
 "cells": [
  {
   "cell_type": "code",
   "execution_count": 1,
   "metadata": {},
   "outputs": [
    {
     "name": "stderr",
     "output_type": "stream",
     "text": [
      "Using TensorFlow backend.\n"
     ]
    }
   ],
   "source": [
    "from keras.datasets import boston_housing\n",
    "import numpy as np\n",
    "import tensorflow as tf"
   ]
  },
  {
   "cell_type": "code",
   "execution_count": 2,
   "metadata": {},
   "outputs": [],
   "source": [
    "seed = 0\n",
    "np.random.seed(seed)\n",
    "tf.set_random_seed(seed)"
   ]
  },
  {
   "cell_type": "markdown",
   "metadata": {},
   "source": [
    "## train 과 test로 쉽게 쪼개는 법"
   ]
  },
  {
   "cell_type": "code",
   "execution_count": 3,
   "metadata": {
    "scrolled": false
   },
   "outputs": [
    {
     "name": "stdout",
     "output_type": "stream",
     "text": [
      "Downloading data from https://s3.amazonaws.com/keras-datasets/boston_housing.npz\n",
      "57344/57026 [==============================] - 0s 5us/step\n"
     ]
    }
   ],
   "source": [
    "(X_train,Y_train),(X_test, Y_test) = boston_housing.load_data()"
   ]
  },
  {
   "cell_type": "code",
   "execution_count": 4,
   "metadata": {},
   "outputs": [],
   "source": [
    "from keras.models import Sequential\n",
    "from keras.layers import Dense"
   ]
  },
  {
   "cell_type": "code",
   "execution_count": 5,
   "metadata": {},
   "outputs": [
    {
     "name": "stderr",
     "output_type": "stream",
     "text": [
      "WARNING: Logging before flag parsing goes to stderr.\n",
      "W0808 09:28:48.689453 18092 deprecation_wrapper.py:119] From C:\\ProgramData\\Anaconda3\\lib\\site-packages\\keras\\backend\\tensorflow_backend.py:74: The name tf.get_default_graph is deprecated. Please use tf.compat.v1.get_default_graph instead.\n",
      "\n",
      "W0808 09:28:48.692442 18092 deprecation_wrapper.py:119] From C:\\ProgramData\\Anaconda3\\lib\\site-packages\\keras\\backend\\tensorflow_backend.py:517: The name tf.placeholder is deprecated. Please use tf.compat.v1.placeholder instead.\n",
      "\n",
      "W0808 09:28:48.702381 18092 deprecation_wrapper.py:119] From C:\\ProgramData\\Anaconda3\\lib\\site-packages\\keras\\backend\\tensorflow_backend.py:4138: The name tf.random_uniform is deprecated. Please use tf.random.uniform instead.\n",
      "\n"
     ]
    }
   ],
   "source": [
    "model1 = Sequential()\n",
    "model1.add(Dense(30,input_dim=13,activation=\"relu\"))\n",
    "model1.add(Dense(1))"
   ]
  },
  {
   "cell_type": "markdown",
   "metadata": {},
   "source": [
    "## 모델 학습"
   ]
  },
  {
   "cell_type": "code",
   "execution_count": 6,
   "metadata": {},
   "outputs": [
    {
     "name": "stderr",
     "output_type": "stream",
     "text": [
      "W0808 09:28:50.053815 18092 deprecation_wrapper.py:119] From C:\\ProgramData\\Anaconda3\\lib\\site-packages\\keras\\optimizers.py:790: The name tf.train.Optimizer is deprecated. Please use tf.compat.v1.train.Optimizer instead.\n",
      "\n",
      "W0808 09:28:50.307140 18092 deprecation_wrapper.py:119] From C:\\ProgramData\\Anaconda3\\lib\\site-packages\\keras\\backend\\tensorflow_backend.py:986: The name tf.assign_add is deprecated. Please use tf.compat.v1.assign_add instead.\n",
      "\n",
      "W0808 09:28:50.428818 18092 deprecation_wrapper.py:119] From C:\\ProgramData\\Anaconda3\\lib\\site-packages\\keras\\backend\\tensorflow_backend.py:973: The name tf.assign is deprecated. Please use tf.compat.v1.assign instead.\n",
      "\n"
     ]
    },
    {
     "name": "stdout",
     "output_type": "stream",
     "text": [
      "Epoch 1/200\n",
      "404/404 [==============================] - 0s 1ms/step - loss: 1139.7493 - acc: 0.0025\n",
      "Epoch 2/200\n",
      "404/404 [==============================] - 0s 136us/step - loss: 106.1860 - acc: 0.0074\n",
      "Epoch 3/200\n",
      "404/404 [==============================] - 0s 160us/step - loss: 82.3701 - acc: 0.0074\n",
      "Epoch 4/200\n",
      "404/404 [==============================] - 0s 175us/step - loss: 69.4322 - acc: 0.0050\n",
      "Epoch 5/200\n",
      "404/404 [==============================] - 0s 195us/step - loss: 65.2455 - acc: 0.0074\n",
      "Epoch 6/200\n",
      "404/404 [==============================] - 0s 178us/step - loss: 60.9896 - acc: 0.0074\n",
      "Epoch 7/200\n",
      "404/404 [==============================] - 0s 187us/step - loss: 58.3081 - acc: 0.0025\n",
      "Epoch 8/200\n",
      "404/404 [==============================] - 0s 185us/step - loss: 55.0429 - acc: 0.0074\n",
      "Epoch 9/200\n",
      "404/404 [==============================] - 0s 182us/step - loss: 50.8299 - acc: 0.0198\n",
      "Epoch 10/200\n",
      "404/404 [==============================] - 0s 180us/step - loss: 50.0436 - acc: 0.0050\n",
      "Epoch 11/200\n",
      "404/404 [==============================] - 0s 194us/step - loss: 50.2166 - acc: 0.0074\n",
      "Epoch 12/200\n",
      "404/404 [==============================] - 0s 202us/step - loss: 46.9876 - acc: 0.0050\n",
      "Epoch 13/200\n",
      "404/404 [==============================] - 0s 177us/step - loss: 46.5576 - acc: 0.0074\n",
      "Epoch 14/200\n",
      "404/404 [==============================] - 0s 175us/step - loss: 45.1117 - acc: 0.0025\n",
      "Epoch 15/200\n",
      "404/404 [==============================] - 0s 173us/step - loss: 43.9222 - acc: 0.0124\n",
      "Epoch 16/200\n",
      "404/404 [==============================] - 0s 183us/step - loss: 43.5956 - acc: 0.0099\n",
      "Epoch 17/200\n",
      "404/404 [==============================] - 0s 191us/step - loss: 41.2754 - acc: 0.0149\n",
      "Epoch 18/200\n",
      "404/404 [==============================] - 0s 185us/step - loss: 41.6894 - acc: 0.0074\n",
      "Epoch 19/200\n",
      "404/404 [==============================] - 0s 116us/step - loss: 41.5710 - acc: 0.0099\n",
      "Epoch 20/200\n",
      "404/404 [==============================] - 0s 141us/step - loss: 40.1662 - acc: 0.0124\n",
      "Epoch 21/200\n",
      "404/404 [==============================] - 0s 178us/step - loss: 38.6221 - acc: 0.0124\n",
      "Epoch 22/200\n",
      "404/404 [==============================] - 0s 170us/step - loss: 39.6291 - acc: 0.0124\n",
      "Epoch 23/200\n",
      "404/404 [==============================] - 0s 168us/step - loss: 38.9786 - acc: 0.0173\n",
      "Epoch 24/200\n",
      "404/404 [==============================] - 0s 185us/step - loss: 37.6336 - acc: 0.0173\n",
      "Epoch 25/200\n",
      "404/404 [==============================] - 0s 173us/step - loss: 39.5163 - acc: 0.0173\n",
      "Epoch 26/200\n",
      "404/404 [==============================] - 0s 173us/step - loss: 38.1837 - acc: 0.0099\n",
      "Epoch 27/200\n",
      "404/404 [==============================] - 0s 167us/step - loss: 39.3241 - acc: 0.0050\n",
      "Epoch 28/200\n",
      "404/404 [==============================] - 0s 143us/step - loss: 36.2549 - acc: 0.0099\n",
      "Epoch 29/200\n",
      "404/404 [==============================] - 0s 114us/step - loss: 36.5155 - acc: 0.0099\n",
      "Epoch 30/200\n",
      "404/404 [==============================] - 0s 116us/step - loss: 35.1007 - acc: 0.0099\n",
      "Epoch 31/200\n",
      "404/404 [==============================] - 0s 180us/step - loss: 34.7504 - acc: 0.0099\n",
      "Epoch 32/200\n",
      "404/404 [==============================] - 0s 183us/step - loss: 37.8836 - acc: 0.0173\n",
      "Epoch 33/200\n",
      "404/404 [==============================] - 0s 156us/step - loss: 40.8750 - acc: 0.0000e+00\n",
      "Epoch 34/200\n",
      "404/404 [==============================] - 0s 175us/step - loss: 33.6111 - acc: 0.0173\n",
      "Epoch 35/200\n",
      "404/404 [==============================] - 0s 170us/step - loss: 38.0312 - acc: 0.0149\n",
      "Epoch 36/200\n",
      "404/404 [==============================] - 0s 168us/step - loss: 35.7898 - acc: 0.0173\n",
      "Epoch 37/200\n",
      "404/404 [==============================] - 0s 195us/step - loss: 34.9675 - acc: 0.0149\n",
      "Epoch 38/200\n",
      "404/404 [==============================] - 0s 149us/step - loss: 37.8551 - acc: 0.0173\n",
      "Epoch 39/200\n",
      "404/404 [==============================] - 0s 147us/step - loss: 34.9571 - acc: 0.0124\n",
      "Epoch 40/200\n",
      "404/404 [==============================] - 0s 151us/step - loss: 40.1680 - acc: 0.0099\n",
      "Epoch 41/200\n",
      "404/404 [==============================] - 0s 114us/step - loss: 34.0628 - acc: 0.0099\n",
      "Epoch 42/200\n",
      "404/404 [==============================] - 0s 143us/step - loss: 33.6800 - acc: 0.0099\n",
      "Epoch 43/200\n",
      "404/404 [==============================] - 0s 156us/step - loss: 35.8942 - acc: 0.0099\n",
      "Epoch 44/200\n",
      "404/404 [==============================] - 0s 141us/step - loss: 32.9455 - acc: 0.0124\n",
      "Epoch 45/200\n",
      "404/404 [==============================] - 0s 141us/step - loss: 33.3485 - acc: 0.0099\n",
      "Epoch 46/200\n",
      "404/404 [==============================] - 0s 146us/step - loss: 35.3331 - acc: 0.0074\n",
      "Epoch 47/200\n",
      "404/404 [==============================] - 0s 141us/step - loss: 33.0857 - acc: 0.0050\n",
      "Epoch 48/200\n",
      "404/404 [==============================] - 0s 141us/step - loss: 34.9834 - acc: 0.0099\n",
      "Epoch 49/200\n",
      "404/404 [==============================] - 0s 138us/step - loss: 32.9718 - acc: 0.0198\n",
      "Epoch 50/200\n",
      "404/404 [==============================] - 0s 145us/step - loss: 38.5151 - acc: 0.0099\n",
      "Epoch 51/200\n",
      "404/404 [==============================] - 0s 146us/step - loss: 32.7633 - acc: 0.0074\n",
      "Epoch 52/200\n",
      "404/404 [==============================] - 0s 131us/step - loss: 32.9805 - acc: 0.0173\n",
      "Epoch 53/200\n",
      "404/404 [==============================] - 0s 146us/step - loss: 34.1101 - acc: 0.0149\n",
      "Epoch 54/200\n",
      "404/404 [==============================] - 0s 184us/step - loss: 32.4563 - acc: 0.0149\n",
      "Epoch 55/200\n",
      "404/404 [==============================] - 0s 170us/step - loss: 32.2263 - acc: 0.0223\n",
      "Epoch 56/200\n",
      "404/404 [==============================] - 0s 163us/step - loss: 32.0405 - acc: 0.0074\n",
      "Epoch 57/200\n",
      "404/404 [==============================] - 0s 156us/step - loss: 30.5637 - acc: 0.0099\n",
      "Epoch 58/200\n",
      "404/404 [==============================] - 0s 148us/step - loss: 32.2724 - acc: 0.0149\n",
      "Epoch 59/200\n",
      "404/404 [==============================] - 0s 185us/step - loss: 30.8491 - acc: 0.0074\n",
      "Epoch 60/200\n",
      "404/404 [==============================] - 0s 138us/step - loss: 32.0529 - acc: 0.0124\n",
      "Epoch 61/200\n",
      "404/404 [==============================] - 0s 176us/step - loss: 29.4746 - acc: 0.0173\n",
      "Epoch 62/200\n",
      "404/404 [==============================] - 0s 151us/step - loss: 29.5818 - acc: 0.0149\n",
      "Epoch 63/200\n",
      "404/404 [==============================] - 0s 138us/step - loss: 31.9008 - acc: 0.0124\n",
      "Epoch 64/200\n",
      "404/404 [==============================] - 0s 143us/step - loss: 31.1298 - acc: 0.0074\n",
      "Epoch 65/200\n",
      "404/404 [==============================] - 0s 165us/step - loss: 29.9173 - acc: 0.0149\n",
      "Epoch 66/200\n",
      "404/404 [==============================] - 0s 175us/step - loss: 28.9468 - acc: 0.0173\n",
      "Epoch 67/200\n",
      "404/404 [==============================] - 0s 180us/step - loss: 30.8677 - acc: 0.0099\n",
      "Epoch 68/200\n",
      "404/404 [==============================] - 0s 148us/step - loss: 29.2138 - acc: 0.0050\n",
      "Epoch 69/200\n",
      "404/404 [==============================] - 0s 173us/step - loss: 30.6546 - acc: 0.0124\n",
      "Epoch 70/200\n",
      "404/404 [==============================] - 0s 198us/step - loss: 30.8842 - acc: 0.0124\n",
      "Epoch 71/200\n",
      "404/404 [==============================] - 0s 138us/step - loss: 31.5295 - acc: 0.0124\n",
      "Epoch 72/200\n",
      "404/404 [==============================] - 0s 158us/step - loss: 39.2209 - acc: 0.0074\n",
      "Epoch 73/200\n",
      "404/404 [==============================] - 0s 185us/step - loss: 36.0529 - acc: 0.0099\n",
      "Epoch 74/200\n",
      "404/404 [==============================] - 0s 189us/step - loss: 29.4695 - acc: 0.0099\n",
      "Epoch 75/200\n",
      "404/404 [==============================] - 0s 112us/step - loss: 31.9571 - acc: 0.0124\n",
      "Epoch 76/200\n",
      "404/404 [==============================] - 0s 131us/step - loss: 29.1947 - acc: 0.0124\n",
      "Epoch 77/200\n",
      "404/404 [==============================] - 0s 180us/step - loss: 31.1075 - acc: 0.0099\n",
      "Epoch 78/200\n",
      "404/404 [==============================] - 0s 178us/step - loss: 29.9218 - acc: 0.0198\n",
      "Epoch 79/200\n",
      "404/404 [==============================] - 0s 188us/step - loss: 30.7988 - acc: 0.0099\n",
      "Epoch 80/200\n",
      "404/404 [==============================] - 0s 173us/step - loss: 31.4944 - acc: 0.0099\n",
      "Epoch 81/200\n",
      "404/404 [==============================] - 0s 174us/step - loss: 29.6764 - acc: 0.0198\n",
      "Epoch 82/200\n"
     ]
    },
    {
     "name": "stdout",
     "output_type": "stream",
     "text": [
      "404/404 [==============================] - 0s 161us/step - loss: 28.2029 - acc: 0.0099\n",
      "Epoch 83/200\n",
      "404/404 [==============================] - 0s 168us/step - loss: 29.5370 - acc: 0.0198\n",
      "Epoch 84/200\n",
      "404/404 [==============================] - 0s 173us/step - loss: 29.5679 - acc: 0.0074\n",
      "Epoch 85/200\n",
      "404/404 [==============================] - 0s 170us/step - loss: 29.6697 - acc: 0.0074\n",
      "Epoch 86/200\n",
      "404/404 [==============================] - 0s 183us/step - loss: 27.5566 - acc: 0.0124\n",
      "Epoch 87/200\n",
      "404/404 [==============================] - 0s 190us/step - loss: 28.6011 - acc: 0.0124\n",
      "Epoch 88/200\n",
      "404/404 [==============================] - 0s 190us/step - loss: 29.2019 - acc: 0.0149\n",
      "Epoch 89/200\n",
      "404/404 [==============================] - 0s 180us/step - loss: 28.3073 - acc: 0.0099\n",
      "Epoch 90/200\n",
      "404/404 [==============================] - 0s 225us/step - loss: 29.6756 - acc: 0.0000e+00\n",
      "Epoch 91/200\n",
      "404/404 [==============================] - 0s 210us/step - loss: 29.0180 - acc: 0.0149\n",
      "Epoch 92/200\n",
      "404/404 [==============================] - 0s 202us/step - loss: 31.1116 - acc: 0.0124\n",
      "Epoch 93/200\n",
      "404/404 [==============================] - 0s 178us/step - loss: 28.3992 - acc: 0.0124\n",
      "Epoch 94/200\n",
      "404/404 [==============================] - 0s 180us/step - loss: 31.1237 - acc: 0.0074\n",
      "Epoch 95/200\n",
      "404/404 [==============================] - 0s 190us/step - loss: 27.8769 - acc: 0.0074\n",
      "Epoch 96/200\n",
      "404/404 [==============================] - 0s 165us/step - loss: 27.5477 - acc: 0.0099\n",
      "Epoch 97/200\n",
      "404/404 [==============================] - 0s 175us/step - loss: 31.5865 - acc: 0.0025\n",
      "Epoch 98/200\n",
      "404/404 [==============================] - 0s 180us/step - loss: 29.4348 - acc: 0.0124\n",
      "Epoch 99/200\n",
      "404/404 [==============================] - 0s 175us/step - loss: 27.3741 - acc: 0.0099\n",
      "Epoch 100/200\n",
      "404/404 [==============================] - 0s 173us/step - loss: 38.6692 - acc: 0.0050\n",
      "Epoch 101/200\n",
      "404/404 [==============================] - 0s 177us/step - loss: 34.4937 - acc: 0.0149\n",
      "Epoch 102/200\n",
      "404/404 [==============================] - 0s 190us/step - loss: 31.1825 - acc: 0.0124\n",
      "Epoch 103/200\n",
      "404/404 [==============================] - 0s 182us/step - loss: 27.7191 - acc: 0.0149\n",
      "Epoch 104/200\n",
      "404/404 [==============================] - 0s 180us/step - loss: 30.7064 - acc: 0.0074\n",
      "Epoch 105/200\n",
      "404/404 [==============================] - 0s 193us/step - loss: 29.5619 - acc: 0.0124\n",
      "Epoch 106/200\n",
      "404/404 [==============================] - 0s 195us/step - loss: 27.6041 - acc: 0.0050\n",
      "Epoch 107/200\n",
      "404/404 [==============================] - 0s 197us/step - loss: 26.3992 - acc: 0.0223\n",
      "Epoch 108/200\n",
      "404/404 [==============================] - 0s 178us/step - loss: 29.0863 - acc: 0.0074\n",
      "Epoch 109/200\n",
      "404/404 [==============================] - 0s 180us/step - loss: 26.9680 - acc: 0.0124\n",
      "Epoch 110/200\n",
      "404/404 [==============================] - 0s 210us/step - loss: 29.1977 - acc: 0.0074\n",
      "Epoch 111/200\n",
      "404/404 [==============================] - 0s 207us/step - loss: 28.5485 - acc: 0.0149\n",
      "Epoch 112/200\n",
      "404/404 [==============================] - 0s 204us/step - loss: 31.5247 - acc: 0.0124\n",
      "Epoch 113/200\n",
      "404/404 [==============================] - 0s 170us/step - loss: 27.8325 - acc: 0.0124\n",
      "Epoch 114/200\n",
      "404/404 [==============================] - 0s 202us/step - loss: 29.8392 - acc: 0.0173\n",
      "Epoch 115/200\n",
      "404/404 [==============================] - 0s 207us/step - loss: 25.7927 - acc: 0.0248\n",
      "Epoch 116/200\n",
      "404/404 [==============================] - 0s 197us/step - loss: 26.2356 - acc: 0.0124\n",
      "Epoch 117/200\n",
      "404/404 [==============================] - 0s 178us/step - loss: 26.6169 - acc: 0.0149\n",
      "Epoch 118/200\n",
      "404/404 [==============================] - 0s 212us/step - loss: 25.7457 - acc: 0.0050\n",
      "Epoch 119/200\n",
      "404/404 [==============================] - 0s 210us/step - loss: 25.6645 - acc: 0.0248\n",
      "Epoch 120/200\n",
      "404/404 [==============================] - 0s 205us/step - loss: 30.4023 - acc: 0.0248\n",
      "Epoch 121/200\n",
      "404/404 [==============================] - 0s 178us/step - loss: 26.4094 - acc: 0.0124\n",
      "Epoch 122/200\n",
      "404/404 [==============================] - 0s 207us/step - loss: 27.3584 - acc: 0.0099\n",
      "Epoch 123/200\n",
      "404/404 [==============================] - 0s 203us/step - loss: 25.9730 - acc: 0.0050\n",
      "Epoch 124/200\n",
      "404/404 [==============================] - 0s 180us/step - loss: 27.8685 - acc: 0.0198\n",
      "Epoch 125/200\n",
      "404/404 [==============================] - 0s 193us/step - loss: 26.0793 - acc: 0.0149\n",
      "Epoch 126/200\n",
      "404/404 [==============================] - 0s 185us/step - loss: 25.3810 - acc: 0.0198\n",
      "Epoch 127/200\n",
      "404/404 [==============================] - 0s 221us/step - loss: 27.0538 - acc: 0.0074\n",
      "Epoch 128/200\n",
      "404/404 [==============================] - 0s 162us/step - loss: 27.3468 - acc: 0.0124\n",
      "Epoch 129/200\n",
      "404/404 [==============================] - 0s 128us/step - loss: 26.0856 - acc: 0.0149\n",
      "Epoch 130/200\n",
      "404/404 [==============================] - 0s 126us/step - loss: 25.9696 - acc: 0.0099\n",
      "Epoch 131/200\n",
      "404/404 [==============================] - 0s 185us/step - loss: 29.8318 - acc: 0.0074\n",
      "Epoch 132/200\n",
      "404/404 [==============================] - 0s 178us/step - loss: 27.3469 - acc: 0.0124\n",
      "Epoch 133/200\n",
      "404/404 [==============================] - 0s 200us/step - loss: 30.9138 - acc: 0.0099\n",
      "Epoch 134/200\n",
      "404/404 [==============================] - 0s 197us/step - loss: 25.4998 - acc: 0.0099\n",
      "Epoch 135/200\n",
      "404/404 [==============================] - 0s 190us/step - loss: 28.7410 - acc: 0.0198\n",
      "Epoch 136/200\n",
      "404/404 [==============================] - 0s 186us/step - loss: 27.0903 - acc: 0.0149\n",
      "Epoch 137/200\n",
      "404/404 [==============================] - 0s 151us/step - loss: 25.9422 - acc: 0.0173\n",
      "Epoch 138/200\n",
      "404/404 [==============================] - 0s 197us/step - loss: 27.6640 - acc: 0.0099\n",
      "Epoch 139/200\n",
      "404/404 [==============================] - 0s 195us/step - loss: 24.8474 - acc: 0.0074\n",
      "Epoch 140/200\n",
      "404/404 [==============================] - 0s 193us/step - loss: 27.2895 - acc: 0.0074\n",
      "Epoch 141/200\n",
      "404/404 [==============================] - 0s 182us/step - loss: 25.3082 - acc: 0.0198\n",
      "Epoch 142/200\n",
      "404/404 [==============================] - 0s 195us/step - loss: 26.0846 - acc: 0.0099\n",
      "Epoch 143/200\n",
      "404/404 [==============================] - 0s 153us/step - loss: 25.3879 - acc: 0.0149\n",
      "Epoch 144/200\n",
      "404/404 [==============================] - 0s 153us/step - loss: 26.0943 - acc: 0.0124\n",
      "Epoch 145/200\n",
      "404/404 [==============================] - 0s 149us/step - loss: 26.1310 - acc: 0.0173\n",
      "Epoch 146/200\n",
      "404/404 [==============================] - 0s 156us/step - loss: 24.4984 - acc: 0.0124\n",
      "Epoch 147/200\n",
      "404/404 [==============================] - 0s 138us/step - loss: 24.1533 - acc: 0.0149\n",
      "Epoch 148/200\n",
      "404/404 [==============================] - 0s 170us/step - loss: 26.0033 - acc: 0.0149\n",
      "Epoch 149/200\n",
      "404/404 [==============================] - 0s 136us/step - loss: 23.7596 - acc: 0.0173\n",
      "Epoch 150/200\n",
      "404/404 [==============================] - 0s 140us/step - loss: 25.3546 - acc: 0.0198\n",
      "Epoch 151/200\n",
      "404/404 [==============================] - 0s 121us/step - loss: 27.9397 - acc: 0.0099\n",
      "Epoch 152/200\n",
      "404/404 [==============================] - 0s 130us/step - loss: 27.0562 - acc: 0.0223\n",
      "Epoch 153/200\n",
      "404/404 [==============================] - 0s 116us/step - loss: 24.2049 - acc: 0.0124\n",
      "Epoch 154/200\n",
      "404/404 [==============================] - 0s 153us/step - loss: 25.5632 - acc: 0.0149\n",
      "Epoch 155/200\n",
      "404/404 [==============================] - 0s 190us/step - loss: 26.1376 - acc: 0.0124\n",
      "Epoch 156/200\n",
      "404/404 [==============================] - 0s 168us/step - loss: 26.0512 - acc: 0.0223\n",
      "Epoch 157/200\n",
      "404/404 [==============================] - 0s 148us/step - loss: 25.8051 - acc: 0.0198\n",
      "Epoch 158/200\n",
      "404/404 [==============================] - 0s 143us/step - loss: 26.3966 - acc: 0.0099\n",
      "Epoch 159/200\n",
      "404/404 [==============================] - 0s 136us/step - loss: 26.9483 - acc: 0.0099\n",
      "Epoch 160/200\n",
      "404/404 [==============================] - 0s 126us/step - loss: 28.8693 - acc: 0.0124\n",
      "Epoch 161/200\n",
      "404/404 [==============================] - 0s 133us/step - loss: 27.2882 - acc: 0.0050\n",
      "Epoch 162/200\n",
      "404/404 [==============================] - 0s 220us/step - loss: 24.5256 - acc: 0.0124\n",
      "Epoch 163/200\n"
     ]
    },
    {
     "name": "stdout",
     "output_type": "stream",
     "text": [
      "404/404 [==============================] - 0s 200us/step - loss: 25.3872 - acc: 0.0099\n",
      "Epoch 164/200\n",
      "404/404 [==============================] - 0s 205us/step - loss: 24.6926 - acc: 0.0124\n",
      "Epoch 165/200\n",
      "404/404 [==============================] - 0s 198us/step - loss: 25.4034 - acc: 0.0198\n",
      "Epoch 166/200\n",
      "404/404 [==============================] - 0s 210us/step - loss: 24.2580 - acc: 0.0025\n",
      "Epoch 167/200\n",
      "404/404 [==============================] - 0s 197us/step - loss: 27.6542 - acc: 0.0124\n",
      "Epoch 168/200\n",
      "404/404 [==============================] - 0s 204us/step - loss: 24.4542 - acc: 0.0149\n",
      "Epoch 169/200\n",
      "404/404 [==============================] - 0s 207us/step - loss: 23.9986 - acc: 0.0050\n",
      "Epoch 170/200\n",
      "404/404 [==============================] - 0s 207us/step - loss: 24.4639 - acc: 0.0124\n",
      "Epoch 171/200\n",
      "404/404 [==============================] - 0s 210us/step - loss: 24.4517 - acc: 0.0124\n",
      "Epoch 172/200\n",
      "404/404 [==============================] - 0s 200us/step - loss: 24.1346 - acc: 0.0149\n",
      "Epoch 173/200\n",
      "404/404 [==============================] - 0s 183us/step - loss: 27.1835 - acc: 0.0124\n",
      "Epoch 174/200\n",
      "404/404 [==============================] - 0s 159us/step - loss: 24.6078 - acc: 0.0074\n",
      "Epoch 175/200\n",
      "404/404 [==============================] - 0s 188us/step - loss: 24.3936 - acc: 0.0124\n",
      "Epoch 176/200\n",
      "404/404 [==============================] - 0s 217us/step - loss: 22.9552 - acc: 0.0149\n",
      "Epoch 177/200\n",
      "404/404 [==============================] - 0s 160us/step - loss: 23.1562 - acc: 0.0223\n",
      "Epoch 178/200\n",
      "404/404 [==============================] - 0s 202us/step - loss: 24.4835 - acc: 0.0223\n",
      "Epoch 179/200\n",
      "404/404 [==============================] - 0s 190us/step - loss: 25.7721 - acc: 0.0099\n",
      "Epoch 180/200\n",
      "404/404 [==============================] - 0s 173us/step - loss: 24.9773 - acc: 0.0124\n",
      "Epoch 181/200\n",
      "404/404 [==============================] - 0s 173us/step - loss: 26.5393 - acc: 0.0149\n",
      "Epoch 182/200\n",
      "404/404 [==============================] - 0s 170us/step - loss: 27.2835 - acc: 0.0050\n",
      "Epoch 183/200\n",
      "404/404 [==============================] - 0s 173us/step - loss: 29.8049 - acc: 0.0050\n",
      "Epoch 184/200\n",
      "404/404 [==============================] - 0s 193us/step - loss: 22.8145 - acc: 0.0173\n",
      "Epoch 185/200\n",
      "404/404 [==============================] - 0s 180us/step - loss: 23.2173 - acc: 0.0173\n",
      "Epoch 186/200\n",
      "404/404 [==============================] - 0s 183us/step - loss: 22.8523 - acc: 0.0223\n",
      "Epoch 187/200\n",
      "404/404 [==============================] - 0s 202us/step - loss: 24.8319 - acc: 0.0198\n",
      "Epoch 188/200\n",
      "404/404 [==============================] - 0s 207us/step - loss: 24.7956 - acc: 0.0074\n",
      "Epoch 189/200\n",
      "404/404 [==============================] - 0s 193us/step - loss: 26.1365 - acc: 0.0149\n",
      "Epoch 190/200\n",
      "404/404 [==============================] - 0s 183us/step - loss: 26.9414 - acc: 0.0149\n",
      "Epoch 191/200\n",
      "404/404 [==============================] - 0s 204us/step - loss: 26.0377 - acc: 0.0099\n",
      "Epoch 192/200\n",
      "404/404 [==============================] - 0s 205us/step - loss: 22.2792 - acc: 0.0149\n",
      "Epoch 193/200\n",
      "404/404 [==============================] - 0s 212us/step - loss: 25.4336 - acc: 0.0248\n",
      "Epoch 194/200\n",
      "404/404 [==============================] - 0s 175us/step - loss: 23.4086 - acc: 0.0198\n",
      "Epoch 195/200\n",
      "404/404 [==============================] - 0s 173us/step - loss: 22.8812 - acc: 0.0099\n",
      "Epoch 196/200\n",
      "404/404 [==============================] - 0s 178us/step - loss: 22.1066 - acc: 0.0124\n",
      "Epoch 197/200\n",
      "404/404 [==============================] - 0s 165us/step - loss: 25.6305 - acc: 0.0173\n",
      "Epoch 198/200\n",
      "404/404 [==============================] - 0s 163us/step - loss: 22.7268 - acc: 0.0173\n",
      "Epoch 199/200\n",
      "404/404 [==============================] - 0s 202us/step - loss: 23.2922 - acc: 0.0149\n",
      "Epoch 200/200\n",
      "404/404 [==============================] - 0s 202us/step - loss: 24.0976 - acc: 0.0173\n"
     ]
    },
    {
     "data": {
      "text/plain": [
       "<keras.callbacks.History at 0x1c3ae8445f8>"
      ]
     },
     "execution_count": 6,
     "metadata": {},
     "output_type": "execute_result"
    }
   ],
   "source": [
    "model1.compile(loss=\"mean_squared_error\",optimizer=\"adam\",metrics=['accuracy']) \n",
    "model1.fit(X_train,Y_train,epochs=200,batch_size=10)"
   ]
  },
  {
   "cell_type": "code",
   "execution_count": 7,
   "metadata": {},
   "outputs": [
    {
     "name": "stdout",
     "output_type": "stream",
     "text": [
      "404/404 [==============================] - 0s 155us/step\n",
      "|n Accuracy: 0.01\n"
     ]
    }
   ],
   "source": [
    "print(\"|n Accuracy: %.2f\"%(model1.evaluate(X_train,Y_train)[1]))"
   ]
  },
  {
   "cell_type": "code",
   "execution_count": 8,
   "metadata": {},
   "outputs": [
    {
     "name": "stdout",
     "output_type": "stream",
     "text": [
      "102/102 [==============================] - 0s 68us/step\n",
      "Accuary: 0.029411764705882353\n"
     ]
    }
   ],
   "source": [
    "ev = model1.evaluate(X_test,Y_test)[1]\n",
    "print('Accuary:' ,ev)"
   ]
  },
  {
   "cell_type": "code",
   "execution_count": 9,
   "metadata": {},
   "outputs": [
    {
     "name": "stdout",
     "output_type": "stream",
     "text": [
      "실제 값 : 7.200, 예상값 : 9.261\n",
      "실제 값 : 18.800, 예상값 : 19.814\n",
      "실제 값 : 19.000, 예상값 : 22.555\n",
      "실제 값 : 27.000, 예상값 : 30.065\n",
      "실제 값 : 22.200, 예상값 : 23.921\n",
      "실제 값 : 24.500, 예상값 : 20.759\n",
      "실제 값 : 31.200, 예상값 : 28.579\n",
      "실제 값 : 22.900, 예상값 : 22.484\n",
      "실제 값 : 20.500, 예상값 : 18.458\n",
      "실제 값 : 23.200, 예상값 : 18.441\n"
     ]
    }
   ],
   "source": [
    "pred = model1.predict(X_test).flatten()\n",
    "for i in range(10):\n",
    "   # print(Y[i])\n",
    "   # print(pred[i])\n",
    "    print(\"실제 값 : {:.3f}, 예상값 : {:.3f}\".format(Y_test[i],pred[i]))"
   ]
  },
  {
   "cell_type": "code",
   "execution_count": null,
   "metadata": {},
   "outputs": [],
   "source": []
  },
  {
   "cell_type": "code",
   "execution_count": 10,
   "metadata": {},
   "outputs": [],
   "source": [
    "dift_value = []\n",
    "for i in range(len(Y_test)): # y_test의 전체 개수를 구하는거\n",
    "    dift_value.append(np.abs(Y_test[i] - pred[i]))"
   ]
  },
  {
   "cell_type": "code",
   "execution_count": 11,
   "metadata": {},
   "outputs": [
    {
     "data": {
      "text/plain": [
       "3.516587120878931"
      ]
     },
     "execution_count": 11,
     "metadata": {},
     "output_type": "execute_result"
    }
   ],
   "source": [
    "np.average(dift_value)"
   ]
  },
  {
   "cell_type": "code",
   "execution_count": null,
   "metadata": {},
   "outputs": [],
   "source": []
  },
  {
   "cell_type": "code",
   "execution_count": null,
   "metadata": {},
   "outputs": [],
   "source": []
  },
  {
   "cell_type": "code",
   "execution_count": null,
   "metadata": {},
   "outputs": [],
   "source": []
  },
  {
   "cell_type": "code",
   "execution_count": null,
   "metadata": {},
   "outputs": [],
   "source": []
  },
  {
   "cell_type": "code",
   "execution_count": null,
   "metadata": {},
   "outputs": [],
   "source": []
  },
  {
   "cell_type": "code",
   "execution_count": null,
   "metadata": {},
   "outputs": [],
   "source": []
  },
  {
   "cell_type": "code",
   "execution_count": null,
   "metadata": {},
   "outputs": [],
   "source": []
  },
  {
   "cell_type": "code",
   "execution_count": null,
   "metadata": {},
   "outputs": [],
   "source": []
  },
  {
   "cell_type": "code",
   "execution_count": null,
   "metadata": {},
   "outputs": [],
   "source": []
  }
 ],
 "metadata": {
  "kernelspec": {
   "display_name": "Python 3",
   "language": "python",
   "name": "python3"
  },
  "language_info": {
   "codemirror_mode": {
    "name": "ipython",
    "version": 3
   },
   "file_extension": ".py",
   "mimetype": "text/x-python",
   "name": "python",
   "nbconvert_exporter": "python",
   "pygments_lexer": "ipython3",
   "version": "3.7.3"
  }
 },
 "nbformat": 4,
 "nbformat_minor": 2
}
